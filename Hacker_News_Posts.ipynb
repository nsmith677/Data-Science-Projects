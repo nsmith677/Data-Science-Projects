{
  "nbformat": 4,
  "nbformat_minor": 0,
  "metadata": {
    "kernelspec": {
      "display_name": "Python 3",
      "language": "python",
      "name": "python3"
    },
    "language_info": {
      "codemirror_mode": {
        "name": "ipython",
        "version": 3
      },
      "file_extension": ".py",
      "mimetype": "text/x-python",
      "name": "python",
      "nbconvert_exporter": "python",
      "pygments_lexer": "ipython3",
      "version": "3.4.3"
    },
    "colab": {
      "name": "Hacker News Posts",
      "provenance": [],
      "collapsed_sections": []
    }
  },
  "cells": [
    {
      "cell_type": "markdown",
      "metadata": {
        "collapsed": true,
        "id": "JadnGLYohZhI",
        "colab_type": "text"
      },
      "source": [
        "# Exploring Hacker News Posts\n",
        "Hacker News is a site that allows users to submit posts and interact with oen another, similar to Reddit. This site is popular in technology circles, with tops posts drawing in thousands of visitors. This analysis will explore the various aspects of a post and how it effects it's susccess. We will be comparing posts with titles including \"Ask HN\" or \"Show HN\", which are tags used by the community to ask a question or show off personal work. We will be analyzing the effects these tags have on their respective posts.\n",
        "\n",
        "1.   Do \"Ask HN\" or \"Show HN\" tags receive more comments on average?\n",
        "2.   Do posts crearted at a certain time receive more comments on average?\n",
        "\n",
        "**Data**\n",
        "\n",
        "The source data for this study can be found [here](https://www.kaggle.com/hacker-news/hacker-news-posts). It contains almost 300,000 rows, each row representing a post. The data is of 2016. However, for this study we make use of a version that been reduced to approximately 20,000 rows by removing all submissions that did not receive any comments, and then randomly sampling from the remaining submissions. This file was prepared by Dataquest."
      ]
    },
    {
      "cell_type": "code",
      "metadata": {
        "id": "UwL460GLjWvi",
        "colab_type": "code",
        "outputId": "faf787c3-0f59-42dd-f660-deed306712c5",
        "colab": {
          "base_uri": "https://localhost:8080/",
          "height": 34
        }
      },
      "source": [
        "from google.colab import drive\n",
        "drive.mount('/content/drive')"
      ],
      "execution_count": 0,
      "outputs": [
        {
          "output_type": "stream",
          "text": [
            "Drive already mounted at /content/drive; to attempt to forcibly remount, call drive.mount(\"/content/drive\", force_remount=True).\n"
          ],
          "name": "stdout"
        }
      ]
    },
    {
      "cell_type": "code",
      "metadata": {
        "id": "YSleXmR1hZhJ",
        "colab_type": "code",
        "outputId": "c52accd6-2cee-4b3b-9603-77c9f79c1f26",
        "colab": {}
      },
      "source": [
        "#Import file and display first 5 rows\n",
        "from csv import reader\n",
        "opened_file = open('/content/drive/My Drive/Colab Notebooks/Hacker News/hacker_news.csv')\n",
        "read_file = reader(opened_file)\n",
        "hn = list(read_file)\n",
        "print(hn[:5])"
      ],
      "execution_count": 0,
      "outputs": [
        {
          "output_type": "stream",
          "text": [
            "[['id', 'title', 'url', 'num_points', 'num_comments', 'author', 'created_at'], ['12224879', 'Interactive Dynamic Video', 'http://www.interactivedynamicvideo.com/', '386', '52', 'ne0phyte', '8/4/2016 11:52'], ['10975351', 'How to Use Open Source and Shut the Fuck Up at the Same Time', 'http://hueniverse.com/2016/01/26/how-to-use-open-source-and-shut-the-fuck-up-at-the-same-time/', '39', '10', 'josep2', '1/26/2016 19:30'], ['11964716', \"Florida DJs May Face Felony for April Fools' Water Joke\", 'http://www.thewire.com/entertainment/2013/04/florida-djs-april-fools-water-joke/63798/', '2', '1', 'vezycash', '6/23/2016 22:20'], ['11919867', 'Technology ventures: From Idea to Enterprise', 'https://www.amazon.com/Technology-Ventures-Enterprise-Thomas-Byers/dp/0073523429', '3', '1', 'hswarna', '6/17/2016 0:01']]\n"
          ],
          "name": "stdout"
        }
      ]
    },
    {
      "cell_type": "code",
      "metadata": {
        "id": "YVItS-7vhZhM",
        "colab_type": "code",
        "outputId": "6af35764-e334-441f-fc25-490411a7f0f0",
        "colab": {}
      },
      "source": [
        "#Isolate header row\n",
        "headers = hn[0]\n",
        "hn = hn[1:]\n",
        "print(headers)\n",
        "print(hn[:5])"
      ],
      "execution_count": 0,
      "outputs": [
        {
          "output_type": "stream",
          "text": [
            "['id', 'title', 'url', 'num_points', 'num_comments', 'author', 'created_at']\n",
            "[['12224879', 'Interactive Dynamic Video', 'http://www.interactivedynamicvideo.com/', '386', '52', 'ne0phyte', '8/4/2016 11:52'], ['10975351', 'How to Use Open Source and Shut the Fuck Up at the Same Time', 'http://hueniverse.com/2016/01/26/how-to-use-open-source-and-shut-the-fuck-up-at-the-same-time/', '39', '10', 'josep2', '1/26/2016 19:30'], ['11964716', \"Florida DJs May Face Felony for April Fools' Water Joke\", 'http://www.thewire.com/entertainment/2013/04/florida-djs-april-fools-water-joke/63798/', '2', '1', 'vezycash', '6/23/2016 22:20'], ['11919867', 'Technology ventures: From Idea to Enterprise', 'https://www.amazon.com/Technology-Ventures-Enterprise-Thomas-Byers/dp/0073523429', '3', '1', 'hswarna', '6/17/2016 0:01'], ['10301696', 'Note by Note: The Making of Steinway L1037 (2007)', 'http://www.nytimes.com/2007/11/07/movies/07stein.html?_r=0', '8', '2', 'walterbell', '9/30/2015 4:12']]\n"
          ],
          "name": "stdout"
        }
      ]
    },
    {
      "cell_type": "code",
      "metadata": {
        "id": "PEB1TjjehZhP",
        "colab_type": "code",
        "outputId": "4abc185b-6d40-481c-8bcf-00bbbf54c644",
        "colab": {}
      },
      "source": [
        "#Separate posts into categories\n",
        "ask_posts = []\n",
        "show_posts = []\n",
        "other_posts = []\n",
        "\n",
        "for row in hn:\n",
        "    title = row[1]\n",
        "    title = title.lower()\n",
        "    \n",
        "    if title.startswith('ask hn'):\n",
        "        ask_posts.append(row)\n",
        "    elif title.startswith('show hn'):\n",
        "        show_posts.append(row)\n",
        "    else:\n",
        "        other_posts.append(row)\n",
        "print(len(ask_posts))\n",
        "print(len(show_posts))\n",
        "print(len(other_posts))"
      ],
      "execution_count": 0,
      "outputs": [
        {
          "output_type": "stream",
          "text": [
            "1744\n",
            "1162\n",
            "17194\n"
          ],
          "name": "stdout"
        }
      ]
    },
    {
      "cell_type": "code",
      "metadata": {
        "id": "Dk25JB9jhZhR",
        "colab_type": "code",
        "outputId": "a14ef700-0e6b-47ff-be6e-c0185b0da832",
        "colab": {}
      },
      "source": [
        "#Determine which posts receive more comments on average\n",
        "\n",
        "total_ask_comments = 0\n",
        "for row in ask_posts:\n",
        "    num_comments = int(row[4])\n",
        "    total_ask_comments = total_ask_comments + num_comments\n",
        "\n",
        "avg_ask_comments = total_ask_comments / len(ask_posts)\n",
        "print(avg_ask_comments)\n",
        "\n",
        "total_show_comments = 0\n",
        "for row in show_posts:\n",
        "    num_comments = int(row[4])\n",
        "    total_show_comments = total_show_comments + num_comments\n",
        "    \n",
        "avg_show_comment = total_show_comments / len(show_posts)\n",
        "print(avg_show_comment)\n",
        "    "
      ],
      "execution_count": 0,
      "outputs": [
        {
          "output_type": "stream",
          "text": [
            "14.038417431192661\n",
            "10.31669535283993\n"
          ],
          "name": "stdout"
        }
      ]
    },
    {
      "cell_type": "markdown",
      "metadata": {
        "id": "deI0a1jShZhT",
        "colab_type": "text"
      },
      "source": [
        "According to the calculation done in the cell above, we can see that \"Ask HN\" posts receive more comments on average compared to \"Show HN\" posts. On average, \"Ask HN\" posts receive 14.04 comments and \"Show HN\" posts receive 10.32 comments. Going forward, we will do our remaining analysis on just \"Ask HN\" posts."
      ]
    },
    {
      "cell_type": "code",
      "metadata": {
        "id": "i_beMJ_AhZhU",
        "colab_type": "code",
        "outputId": "9e147f2f-9d60-4205-b070-7aa1cd80e487",
        "colab": {}
      },
      "source": [
        "# Calculate the amount of ask posts created per hour along with the total amount of comments.\n",
        "import datetime as dt\n",
        "result_list = []\n",
        "\n",
        "for row in ask_posts:\n",
        "    created_at = row[6]\n",
        "    num_comments = int(row[4])\n",
        "    result_list.append([created_at, num_comments])\n",
        "\n",
        "counts_by_hour = {}\n",
        "comments_by_hour = {}\n",
        "\n",
        "for row in result_list:\n",
        "    date = dt.datetime.strptime(row[0], '%m/%d/%Y %H:%M')\n",
        "    hour = date.strftime(\"%H\")\n",
        "    \n",
        "    if hour not in counts_by_hour:\n",
        "        counts_by_hour[hour] = 1\n",
        "        comments_by_hour[hour] = row[1]\n",
        "    else:\n",
        "        counts_by_hour[hour] += 1\n",
        "        comments_by_hour[hour] += row[1]   "
      ],
      "execution_count": 0,
      "outputs": [
        {
          "output_type": "stream",
          "text": [
            "{'09': 251, '10': 793, '02': 1381, '21': 1745, '23': 543, '16': 1814, '17': 1146, '22': 479, '11': 641, '19': 1188, '07': 267, '08': 492, '04': 337, '05': 464, '13': 1253, '01': 683, '06': 397, '18': 1439, '14': 1416, '03': 421, '20': 1722, '12': 687, '00': 447, '15': 4477}\n"
          ],
          "name": "stdout"
        }
      ]
    },
    {
      "cell_type": "code",
      "metadata": {
        "id": "rgOOAJPJhZhW",
        "colab_type": "code",
        "outputId": "4e0d019f-484c-4c46-c366-2f3feffa904c",
        "colab": {}
      },
      "source": [
        "avg_by_hour = []\n",
        "\n",
        "for hour in comments_by_hour:\n",
        "    avg_by_hour.append([hour, comments_by_hour[hour] / counts_by_hour[hour]])\n",
        "\n",
        "print(avg_by_hour)\n",
        "    "
      ],
      "execution_count": 0,
      "outputs": [
        {
          "output_type": "stream",
          "text": [
            "[['09', 5.5777777777777775], ['10', 13.440677966101696], ['02', 23.810344827586206], ['21', 16.009174311926607], ['23', 7.985294117647059], ['16', 16.796296296296298], ['17', 11.46], ['22', 6.746478873239437], ['11', 11.051724137931034], ['19', 10.8], ['07', 7.852941176470588], ['08', 10.25], ['04', 7.170212765957447], ['05', 10.08695652173913], ['13', 14.741176470588234], ['01', 11.383333333333333], ['06', 9.022727272727273], ['18', 13.20183486238532], ['14', 13.233644859813085], ['03', 7.796296296296297], ['20', 21.525], ['12', 9.41095890410959], ['00', 8.127272727272727], ['15', 38.5948275862069]]\n"
          ],
          "name": "stdout"
        }
      ]
    },
    {
      "cell_type": "code",
      "metadata": {
        "id": "Cz_1CqnphZhY",
        "colab_type": "code",
        "outputId": "185dc63c-2c9d-4e81-c855-25030c45d97b",
        "colab": {}
      },
      "source": [
        "swap_avg_by_hour = []\n",
        "for row in avg_by_hour:\n",
        "    swap_avg_by_hour.append([row[1], row[0]])\n",
        "\n",
        "sorted_swap = sorted(swap_avg_by_hour, reverse=True)\n",
        "print(\"Top 5 Hours for Ask Posts Comments\")\n",
        "for row in sorted_swap[:5]:\n",
        "        avg = row[0]\n",
        "        hour = row[1]\n",
        "        hour_format = \"%H\"\n",
        "        hour = dt.datetime.strptime(hour, hour_format)\n",
        "        hour = hour.strftime('%H:%M')\n",
        "        \n",
        "        hour_avg_string = \"{h} {a:.2f} avg comments per post\".format(h=hour, a=avg)\n",
        "        print(hour_avg_string)"
      ],
      "execution_count": 0,
      "outputs": [
        {
          "output_type": "stream",
          "text": [
            "Top 5 Hours for Ask Posts Comments\n",
            "15:00 38.59 avg comments per post\n",
            "02:00 23.81 avg comments per post\n",
            "20:00 21.52 avg comments per post\n",
            "16:00 16.80 avg comments per post\n",
            "21:00 16.01 avg comments per post\n"
          ],
          "name": "stdout"
        }
      ]
    },
    {
      "cell_type": "markdown",
      "metadata": {
        "id": "oUVgEITxhZhb",
        "colab_type": "text"
      },
      "source": [
        "According to the results showed above, it appears that the best time to make a \"Ask HN\" post is 15:00 (3PM EST) as those posts had the highest number of comments per post. Posting during this time generally has more engagement."
      ]
    }
  ]
}