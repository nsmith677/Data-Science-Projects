{
  "nbformat": 4,
  "nbformat_minor": 0,
  "metadata": {
    "colab": {
      "name": "Profitable App Profiles for the App Store & Google Play",
      "provenance": [],
      "collapsed_sections": [],
      "mount_file_id": "1tVSPQKEOuAJHt7e9k9Y0wWipSZCNCjp9",
      "authorship_tag": "ABX9TyPPA4rRPwgSB3DQBhE6mmgk"
    },
    "kernelspec": {
      "name": "python3",
      "display_name": "Python 3"
    }
  },
  "cells": [
    {
      "cell_type": "markdown",
      "metadata": {
        "id": "LWbGvF9JcATw",
        "colab_type": "text"
      },
      "source": [
        "# Profitable App Profiles for the App Store and Google Play Markets\n",
        "\n",
        "The goal of this project is to find mobile applications that are profitable for the App Store and Google Play markets. The main source of revenue for free to download apps consists of in-app ads. Majority of revenue for any given app is mostly influenced by the number of users. I will analyze data to help determine which apps are likely to attract more users.\n"
      ]
    },
    {
      "cell_type": "markdown",
      "metadata": {
        "id": "MjK-JP051MR1",
        "colab_type": "text"
      },
      "source": [
        "# Opening & Exploring the Data\n",
        "\n",
        "As of September 2018, there were approximately 2 million iOS apps available on the App Store and 2.1 million Android apps on Google Play.\n",
        "\n",
        "These are 2 data sets that seem suitable for our purpose.\n",
        "\n",
        "\n",
        "*   A [data set](https://www.kaggle.com/lava18/google-play-store-apps) about ~10,000 Android apps from Google play.\n",
        "*   A [data set](https://www.kaggle.com/ramamet4/app-store-apple-data-set-10k-apps) about ~7,000 iOS apps from the App Store.\n",
        "\n"
      ]
    },
    {
      "cell_type": "code",
      "metadata": {
        "id": "JARRWPo1fe5C",
        "colab_type": "code",
        "colab": {}
      },
      "source": [
        "from csv import reader\n",
        "\n",
        "### The Google Play data set ###\n",
        "opened_file = open('/content/drive/My Drive/Colab Notebooks/App Store/googleplaystore.csv')\n",
        "read_file = reader(opened_file)\n",
        "android = list(read_file)\n",
        "android_header = android[0]\n",
        "android = android[1:]\n",
        "\n",
        "### The App Store data set ###\n",
        "opened_file = open('/content/drive/My Drive/Colab Notebooks/App Store/AppleStore.csv')\n",
        "read_file = reader(opened_file)\n",
        "ios = list(read_file)\n",
        "ios_header = ios[0]\n",
        "ios = ios[1:]"
      ],
      "execution_count": 0,
      "outputs": []
    },
    {
      "cell_type": "markdown",
      "metadata": {
        "id": "IQilFFqy19z6",
        "colab_type": "text"
      },
      "source": [
        "In order to easily explore the 2 data sets, the `explore_data()` function can be used repeatedly to explore rows in a more readable way. There is also an option for the function to display the number of rows and columns for any dataset."
      ]
    },
    {
      "cell_type": "code",
      "metadata": {
        "id": "ybmfSWZnyJOM",
        "colab_type": "code",
        "colab": {}
      },
      "source": [
        "def explore_data(dataset, start, end, rows_and_columns=False):\n",
        "    dataset_slice = dataset[start:end]\n",
        "    for row in dataset_slice:\n",
        "        print(row)\n",
        "        print('\\n')\n",
        "    if rows_and_columns:\n",
        "        print('Number of rows:', len(dataset))\n",
        "        print('Number of columns:', len(dataset[0]))"
      ],
      "execution_count": 0,
      "outputs": []
    },
    {
      "cell_type": "markdown",
      "metadata": {
        "id": "ndyrG1bD2Zg7",
        "colab_type": "text"
      },
      "source": [
        "Google Play data set"
      ]
    },
    {
      "cell_type": "code",
      "metadata": {
        "id": "qrsFWB3TyMHl",
        "colab_type": "code",
        "outputId": "e9a61d01-4d0d-4701-cecc-4701b8f032a2",
        "colab": {
          "base_uri": "https://localhost:8080/",
          "height": 275
        }
      },
      "source": [
        "print(android_header)\n",
        "print('\\n')\n",
        "explore_data(android, 0, 3, True)"
      ],
      "execution_count": 0,
      "outputs": [
        {
          "output_type": "stream",
          "text": [
            "['App', 'Category', 'Rating', 'Reviews', 'Size', 'Installs', 'Type', 'Price', 'Content Rating', 'Genres', 'Last Updated', 'Current Ver', 'Android Ver']\n",
            "\n",
            "\n",
            "['Photo Editor & Candy Camera & Grid & ScrapBook', 'ART_AND_DESIGN', '4.1', '159', '19M', '10,000+', 'Free', '0', 'Everyone', 'Art & Design', 'January 7, 2018', '1.0.0', '4.0.3 and up']\n",
            "\n",
            "\n",
            "['Coloring book moana', 'ART_AND_DESIGN', '3.9', '967', '14M', '500,000+', 'Free', '0', 'Everyone', 'Art & Design;Pretend Play', 'January 15, 2018', '2.0.0', '4.0.3 and up']\n",
            "\n",
            "\n",
            "['U Launcher Lite – FREE Live Cool Themes, Hide Apps', 'ART_AND_DESIGN', '4.7', '87510', '8.7M', '5,000,000+', 'Free', '0', 'Everyone', 'Art & Design', 'August 1, 2018', '1.2.4', '4.0.3 and up']\n",
            "\n",
            "\n",
            "Number of rows: 10841\n",
            "Number of columns: 13\n"
          ],
          "name": "stdout"
        }
      ]
    },
    {
      "cell_type": "markdown",
      "metadata": {
        "id": "wYu36yLu2dN9",
        "colab_type": "text"
      },
      "source": [
        "The Google Play data set has 10841 apps and 13 columns. The columns that may be useful for our analysis are: 'App', 'Category', 'Reviews', 'Installs', 'Type', 'Price', 'Genres'.\n",
        "\n",
        "Now we will examine the iOS data set\n",
        "\n"
      ]
    },
    {
      "cell_type": "code",
      "metadata": {
        "id": "kgoy-k_ryq_x",
        "colab_type": "code",
        "outputId": "119b6113-b91a-44b7-ebf7-a87953533b6f",
        "colab": {
          "base_uri": "https://localhost:8080/",
          "height": 275
        }
      },
      "source": [
        "print(ios_header)\n",
        "print('\\n')\n",
        "explore_data(ios, 0, 3, True)"
      ],
      "execution_count": 0,
      "outputs": [
        {
          "output_type": "stream",
          "text": [
            "['', 'id', 'track_name', 'size_bytes', 'currency', 'price', 'rating_count_tot', 'rating_count_ver', 'user_rating', 'user_rating_ver', 'ver', 'cont_rating', 'prime_genre', 'sup_devices.num', 'ipadSc_urls.num', 'lang.num', 'vpp_lic']\n",
            "\n",
            "\n",
            "['1', '281656475', 'PAC-MAN Premium', '100788224', 'USD', '3.99', '21292', '26', '4', '4.5', '6.3.5', '4+', 'Games', '38', '5', '10', '1']\n",
            "\n",
            "\n",
            "['2', '281796108', 'Evernote - stay organized', '158578688', 'USD', '0', '161065', '26', '4', '3.5', '8.2.2', '4+', 'Productivity', '37', '5', '23', '1']\n",
            "\n",
            "\n",
            "['3', '281940292', 'WeatherBug - Local Weather, Radar, Maps, Alerts', '100524032', 'USD', '0', '188583', '2822', '3.5', '4.5', '5.0.0', '4+', 'Weather', '37', '5', '3', '1']\n",
            "\n",
            "\n",
            "Number of rows: 7197\n",
            "Number of columns: 17\n"
          ],
          "name": "stdout"
        }
      ]
    },
    {
      "cell_type": "markdown",
      "metadata": {
        "id": "1XbOo9Zl3aK8",
        "colab_type": "text"
      },
      "source": [
        "There are 7197 apps in the iOS data set and the columns that may be useful for our analysis are: 'track_name', 'currency', 'price', 'rating_count_tot', 'rating_count_ver', and 'prime_genre'.\n",
        "\n",
        "Details for each column can be found [here](https://www.kaggle.com/ramamet4/app-store-apple-data-set-10k-apps/home)."
      ]
    },
    {
      "cell_type": "markdown",
      "metadata": {
        "id": "W1GNaNSJ354P",
        "colab_type": "text"
      },
      "source": [
        "# Deleting Wrong Data\n",
        "\n",
        "In the Google Play data set discussion section on Kaggle, we can see that there is an error for row 10472."
      ]
    },
    {
      "cell_type": "code",
      "metadata": {
        "id": "wF2j73OP0RWH",
        "colab_type": "code",
        "outputId": "3015ce89-2031-40bb-e80d-e8bc21cde635",
        "colab": {
          "base_uri": "https://localhost:8080/",
          "height": 105
        }
      },
      "source": [
        "print(android_header)\n",
        "print('\\n')\n",
        "print(android[10472])"
      ],
      "execution_count": 0,
      "outputs": [
        {
          "output_type": "stream",
          "text": [
            "['App', 'Category', 'Rating', 'Reviews', 'Size', 'Installs', 'Type', 'Price', 'Content Rating', 'Genres', 'Last Updated', 'Current Ver', 'Android Ver']\n",
            "\n",
            "\n",
            "['Life Made WI-Fi Touchscreen Photo Frame', '1.9', '19', '3.0M', '1,000+', 'Free', '0', 'Everyone', '', 'February 11, 2018', '1.0.19', '4.0 and up']\n"
          ],
          "name": "stdout"
        }
      ]
    },
    {
      "cell_type": "markdown",
      "metadata": {
        "id": "SEL_QWeH4GTT",
        "colab_type": "text"
      },
      "source": [
        "Row 10472 corresponds to the app *Life Made WI-Fi Touchscreen Photo Frame* with a rating of 19. The maximum rating for a Google Play app is 5 and we should delete this row as it is inaccurate."
      ]
    },
    {
      "cell_type": "code",
      "metadata": {
        "id": "5SPVHM_s0pDt",
        "colab_type": "code",
        "outputId": "37bf8d24-a4e3-4052-c862-fc41e0cb1622",
        "colab": {
          "base_uri": "https://localhost:8080/",
          "height": 51
        }
      },
      "source": [
        "print(len(android))\n",
        "del android[10472]\n",
        "print(len(android))"
      ],
      "execution_count": 0,
      "outputs": [
        {
          "output_type": "stream",
          "text": [
            "10841\n",
            "10840\n"
          ],
          "name": "stdout"
        }
      ]
    },
    {
      "cell_type": "markdown",
      "metadata": {
        "id": "qCse5jAu5Z1i",
        "colab_type": "text"
      },
      "source": [
        "# Removing Duplicate Entries\n",
        "\n",
        "**Part One**\n",
        "\n",
        "After exploring the Google Play data set, you can see that some apps have more than one entry. For example, Instagram has 4 entries."
      ]
    },
    {
      "cell_type": "code",
      "metadata": {
        "id": "CmHEiXqQ5rW_",
        "colab_type": "code",
        "outputId": "30c88461-3255-4daa-ff39-98046fc76cad",
        "colab": {
          "base_uri": "https://localhost:8080/",
          "height": 105
        }
      },
      "source": [
        "for app in android:\n",
        "    name = app[0]\n",
        "    if name == \"Instagram\":\n",
        "        print(app)"
      ],
      "execution_count": 0,
      "outputs": [
        {
          "output_type": "stream",
          "text": [
            "['Instagram', 'SOCIAL', '4.5', '66577313', 'Varies with device', '1,000,000,000+', 'Free', '0', 'Teen', 'Social', 'July 31, 2018', 'Varies with device', 'Varies with device']\n",
            "['Instagram', 'SOCIAL', '4.5', '66577446', 'Varies with device', '1,000,000,000+', 'Free', '0', 'Teen', 'Social', 'July 31, 2018', 'Varies with device', 'Varies with device']\n",
            "['Instagram', 'SOCIAL', '4.5', '66577313', 'Varies with device', '1,000,000,000+', 'Free', '0', 'Teen', 'Social', 'July 31, 2018', 'Varies with device', 'Varies with device']\n",
            "['Instagram', 'SOCIAL', '4.5', '66509917', 'Varies with device', '1,000,000,000+', 'Free', '0', 'Teen', 'Social', 'July 31, 2018', 'Varies with device', 'Varies with device']\n"
          ],
          "name": "stdout"
        }
      ]
    },
    {
      "cell_type": "markdown",
      "metadata": {
        "id": "wEagNw2r55EN",
        "colab_type": "text"
      },
      "source": [
        "In total there are 1,181 cases where an app occurs more than once:"
      ]
    },
    {
      "cell_type": "code",
      "metadata": {
        "id": "8eb-z-Iw58sw",
        "colab_type": "code",
        "outputId": "e157b706-e4ff-4743-9d81-1f989bb80ed4",
        "colab": {
          "base_uri": "https://localhost:8080/",
          "height": 105
        }
      },
      "source": [
        "duplicate_apps = []\n",
        "unique_apps = []\n",
        "\n",
        "for app in android:\n",
        "    name = app[0]\n",
        "    if name in unique_apps:\n",
        "        duplicate_apps.append(name)\n",
        "    else:\n",
        "        unique_apps.append(name)\n",
        "\n",
        "print('# of duplicate apps: ', len(duplicate_apps))\n",
        "print('\\n')\n",
        "print('Examples of duplicate apps: ', duplicate_apps[:15])"
      ],
      "execution_count": 0,
      "outputs": [
        {
          "output_type": "stream",
          "text": [
            "# of duplicate apps:  1181\n",
            "\n",
            "\n",
            "Examples of duplicate apps:  ['Quick PDF Scanner + OCR FREE', 'Box', 'Google My Business', 'ZOOM Cloud Meetings', 'join.me - Simple Meetings', 'Box', 'Zenefits', 'Google Ads', 'Google My Business', 'Slack', 'FreshBooks Classic', 'Insightly CRM', 'QuickBooks Accounting: Invoicing & Expenses', 'HipChat - Chat Built for Teams', 'Xero Accounting Software']\n"
          ],
          "name": "stdout"
        }
      ]
    },
    {
      "cell_type": "markdown",
      "metadata": {
        "id": "2g90_4GZ6z9a",
        "colab_type": "text"
      },
      "source": [
        "We need to remove the duplicate entries and keep only 1 per app. If you examine the data for Instagram, you will notice that there is a variation at the fourth postion which corresponds to the number of reviews. The different numbers show that the data was collected at different times. Instead of removing rows randomly, we will use this as the criterion by keeping the row that has the highest number of reviews.\n",
        "\n",
        "To remove the duplicates, we will:\n",
        "\n",
        "\n",
        "*   Create a dictionary, whee each dictionary key is a unique app name and the corresponding dictionary value is the highest number of reviews for that app.\n",
        "*   Use the information stored in the dictionary and create a new data set, which will have only one entry per app\n",
        "\n"
      ]
    },
    {
      "cell_type": "markdown",
      "metadata": {
        "id": "xlit_MG-7o7t",
        "colab_type": "text"
      },
      "source": [
        "**Part Two**\n",
        "\n",
        "We will start by building the dictionary."
      ]
    },
    {
      "cell_type": "code",
      "metadata": {
        "id": "NhNHJeYC7v5s",
        "colab_type": "code",
        "outputId": "c8088b65-e606-40c6-9028-82b3ea0001d4",
        "colab": {
          "base_uri": "https://localhost:8080/",
          "height": 51
        }
      },
      "source": [
        "reviews_max = {}\n",
        "\n",
        "for app in android:\n",
        "    name = app[0]\n",
        "    n_reviews = float(app[3])\n",
        "\n",
        "    if name in reviews_max and reviews_max[name] < n_reviews:\n",
        "        reviews_max[name] = n_reviews\n",
        "    elif name not in reviews_max:\n",
        "        reviews_max[name] = n_reviews\n",
        "\n",
        "print('Expected length:', len(android) - 1181)\n",
        "print('Actual lengthL', len(reviews_max))\n"
      ],
      "execution_count": 0,
      "outputs": [
        {
          "output_type": "stream",
          "text": [
            "Expected length: 9659\n",
            "Actual lengthL 9659\n"
          ],
          "name": "stdout"
        }
      ]
    },
    {
      "cell_type": "markdown",
      "metadata": {
        "id": "qDthp34U-fNu",
        "colab_type": "text"
      },
      "source": [
        "For the duplicate cases, we will only keep the entries with the highest number of reviews.\n",
        "\n",
        "\n",
        "1.   Initialize two empty lists: `android_clean` and `already_added`\n",
        "2.   Loop through the `android` data set and for each iteration:\n",
        "    * Isolate the name of the app and number of reviews\n",
        "    * Add the current row (`app`) to the `android_clean` list and the app name (`name`) to the `already_added` list if:\n",
        "        * The number of reviews of the current app matches the number of reviews as described in the `reviews_max` dictionary\n",
        "        * The name of the app is not already in the `already_added` list\n",
        "            * We do this to account for the cases where the highest number of reviews of a duplicate app is the same for more than one entry. If we just check for `reviews_max[name] == n_reviews` we'll still end up with duplicate entries for some apps. \n",
        "\n",
        "\n",
        "\n",
        "\n"
      ]
    },
    {
      "cell_type": "code",
      "metadata": {
        "id": "RnthtN-D9cEY",
        "colab_type": "code",
        "colab": {}
      },
      "source": [
        "android_clean = []\n",
        "already_added = []\n",
        "\n",
        "for app in android:\n",
        "    name = app[0]\n",
        "    n_reviews = float(app[3])\n",
        "\n",
        "    if (reviews_max[name] == n_reviews) and (name not in already_added):\n",
        "        android_clean.append(app)\n",
        "        already_added.append(name)"
      ],
      "execution_count": 0,
      "outputs": []
    },
    {
      "cell_type": "code",
      "metadata": {
        "id": "pIVsxAG9_sTU",
        "colab_type": "code",
        "outputId": "ab3eebd6-8755-42c4-a4ae-45ffe9801f18",
        "colab": {
          "base_uri": "https://localhost:8080/",
          "height": 224
        }
      },
      "source": [
        "explore_data(android_clean, 0, 3, True)"
      ],
      "execution_count": 0,
      "outputs": [
        {
          "output_type": "stream",
          "text": [
            "['Photo Editor & Candy Camera & Grid & ScrapBook', 'ART_AND_DESIGN', '4.1', '159', '19M', '10,000+', 'Free', '0', 'Everyone', 'Art & Design', 'January 7, 2018', '1.0.0', '4.0.3 and up']\n",
            "\n",
            "\n",
            "['U Launcher Lite – FREE Live Cool Themes, Hide Apps', 'ART_AND_DESIGN', '4.7', '87510', '8.7M', '5,000,000+', 'Free', '0', 'Everyone', 'Art & Design', 'August 1, 2018', '1.2.4', '4.0.3 and up']\n",
            "\n",
            "\n",
            "['Sketch - Draw & Paint', 'ART_AND_DESIGN', '4.5', '215644', '25M', '50,000,000+', 'Free', '0', 'Teen', 'Art & Design', 'June 8, 2018', 'Varies with device', '4.2 and up']\n",
            "\n",
            "\n",
            "Number of rows: 9659\n",
            "Number of columns: 13\n"
          ],
          "name": "stdout"
        }
      ]
    },
    {
      "cell_type": "markdown",
      "metadata": {
        "id": "kVTmRMVCBjBl",
        "colab_type": "text"
      },
      "source": [
        "# Removing Non-English Apps\n",
        "\n",
        "**Part One**\n",
        "\n",
        "Some of the apps suggest they are not directed toward an English-speaking audience. We are not interested in these apps so we will remove them.\n",
        "\n",
        "All characters specific to English texts are encoded using the ASCII standard. Each character has a corrresponding number between 0 and 127 associated with it.\n",
        "\n",
        "Below, we built a function to find out the corresponding encoding number of each character."
      ]
    },
    {
      "cell_type": "code",
      "metadata": {
        "id": "vr2JTheZAxEq",
        "colab_type": "code",
        "outputId": "4964e87a-2345-4a61-f9c1-c09bffdf9156",
        "colab": {
          "base_uri": "https://localhost:8080/",
          "height": 85
        }
      },
      "source": [
        "def is_english(string):\n",
        "    for character in string:\n",
        "        if ord(character) > 127:\n",
        "            return False\n",
        "    return True\n",
        "\n",
        "print(is_english('Instagram'))\n",
        "print(is_english('爱奇艺PPS -《欢乐颂2》电视剧热播'))\n",
        "print(is_english('Docs To Go™ Free Office Suite'))\n",
        "print(is_english('Instachat 😜'))"
      ],
      "execution_count": 0,
      "outputs": [
        {
          "output_type": "stream",
          "text": [
            "True\n",
            "False\n",
            "False\n",
            "False\n"
          ],
          "name": "stdout"
        }
      ]
    },
    {
      "cell_type": "markdown",
      "metadata": {
        "id": "RV3mqfPlCDR5",
        "colab_type": "text"
      },
      "source": [
        "The function wroks find, but some English app names use emojis or other symbols that fall outside of the ASCII range. We will remove useful apps if we use the function in its current form."
      ]
    },
    {
      "cell_type": "markdown",
      "metadata": {
        "id": "NCrBdyZvCQr5",
        "colab_type": "text"
      },
      "source": [
        "**Part Two**\n",
        "\n",
        "To minimize the impact of data loss, an app will only be removed if its name has more than 3 non-ASCII characters."
      ]
    },
    {
      "cell_type": "code",
      "metadata": {
        "id": "3bO3VZ4YCcw7",
        "colab_type": "code",
        "outputId": "daf85497-7843-4a20-919b-0fd4e54eabf3",
        "colab": {
          "base_uri": "https://localhost:8080/",
          "height": 68
        }
      },
      "source": [
        "def is_english(string):\n",
        "    non_ascii = 0\n",
        "\n",
        "    for character in string:\n",
        "        if ord(character) > 127:\n",
        "            non_ascii += 1\n",
        "        \n",
        "    if non_ascii > 3:\n",
        "        return False\n",
        "    else:\n",
        "        return True\n",
        "\n",
        "print(is_english('Docs To Go™ Free Office Suite'))\n",
        "print(is_english('Instachat 😜'))\n",
        "print(is_english('爱奇艺PPS -《欢乐颂2》电视剧热播'))"
      ],
      "execution_count": 0,
      "outputs": [
        {
          "output_type": "stream",
          "text": [
            "True\n",
            "True\n",
            "False\n"
          ],
          "name": "stdout"
        }
      ]
    },
    {
      "cell_type": "markdown",
      "metadata": {
        "id": "f3vh6RrBDNh_",
        "colab_type": "text"
      },
      "source": [
        "Below we use the `is_english` function to filter out the non-English apps for both data sets:"
      ]
    },
    {
      "cell_type": "code",
      "metadata": {
        "id": "cKFcd1i4DRuA",
        "colab_type": "code",
        "outputId": "3fd311df-fe4e-4fa9-f297-a47e53bb1629",
        "colab": {
          "base_uri": "https://localhost:8080/",
          "height": 445
        }
      },
      "source": [
        "android_english = []\n",
        "ios_english = []\n",
        "\n",
        "for app in android_clean:\n",
        "    name = app[0]\n",
        "    if is_english(name):\n",
        "        android_english.append(app)\n",
        "    \n",
        "for app in ios:\n",
        "    name = app[2]\n",
        "    if is_english(name):\n",
        "        ios_english.append(app)\n",
        "\n",
        "explore_data(android_english, 0, 3, True)\n",
        "print('\\n')\n",
        "explore_data(ios_english, 0, 3, True)"
      ],
      "execution_count": 0,
      "outputs": [
        {
          "output_type": "stream",
          "text": [
            "['Photo Editor & Candy Camera & Grid & ScrapBook', 'ART_AND_DESIGN', '4.1', '159', '19M', '10,000+', 'Free', '0', 'Everyone', 'Art & Design', 'January 7, 2018', '1.0.0', '4.0.3 and up']\n",
            "\n",
            "\n",
            "['U Launcher Lite – FREE Live Cool Themes, Hide Apps', 'ART_AND_DESIGN', '4.7', '87510', '8.7M', '5,000,000+', 'Free', '0', 'Everyone', 'Art & Design', 'August 1, 2018', '1.2.4', '4.0.3 and up']\n",
            "\n",
            "\n",
            "['Sketch - Draw & Paint', 'ART_AND_DESIGN', '4.5', '215644', '25M', '50,000,000+', 'Free', '0', 'Teen', 'Art & Design', 'June 8, 2018', 'Varies with device', '4.2 and up']\n",
            "\n",
            "\n",
            "Number of rows: 9614\n",
            "Number of columns: 13\n",
            "\n",
            "\n",
            "['1', '281656475', 'PAC-MAN Premium', '100788224', 'USD', '3.99', '21292', '26', '4', '4.5', '6.3.5', '4+', 'Games', '38', '5', '10', '1']\n",
            "\n",
            "\n",
            "['2', '281796108', 'Evernote - stay organized', '158578688', 'USD', '0', '161065', '26', '4', '3.5', '8.2.2', '4+', 'Productivity', '37', '5', '23', '1']\n",
            "\n",
            "\n",
            "['3', '281940292', 'WeatherBug - Local Weather, Radar, Maps, Alerts', '100524032', 'USD', '0', '188583', '2822', '3.5', '4.5', '5.0.0', '4+', 'Weather', '37', '5', '3', '1']\n",
            "\n",
            "\n",
            "Number of rows: 6183\n",
            "Number of columns: 17\n"
          ],
          "name": "stdout"
        }
      ]
    },
    {
      "cell_type": "markdown",
      "metadata": {
        "id": "Mh0NiRlgD1nD",
        "colab_type": "text"
      },
      "source": [
        "We are now left with 9614 Android apps and 6183 iOS apps."
      ]
    },
    {
      "cell_type": "markdown",
      "metadata": {
        "id": "mZ8B9kPpEvcU",
        "colab_type": "text"
      },
      "source": [
        "# Isolating the Free Apps\n",
        "\n",
        "As mentioned in the introduction, our focus is on free apps. These data sets contain both free and non-free apps, so we need to isolate only the free apps for our analysis."
      ]
    },
    {
      "cell_type": "code",
      "metadata": {
        "id": "Gcxhu9r8E8gI",
        "colab_type": "code",
        "outputId": "5712d0c8-97a7-4e8e-a737-5d98d1c81748",
        "colab": {
          "base_uri": "https://localhost:8080/",
          "height": 51
        }
      },
      "source": [
        "android_final = []\n",
        "ios_final = []\n",
        "\n",
        "for app in android_english:\n",
        "    price = app[7]\n",
        "    if price == '0':\n",
        "        android_final.append(app)\n",
        "\n",
        "for app in ios_english:\n",
        "    price = app[5]\n",
        "    if price == '0':\n",
        "        ios_final.append(app)\n",
        "\n",
        "print(len(android_final))\n",
        "print(len(ios_final))"
      ],
      "execution_count": 0,
      "outputs": [
        {
          "output_type": "stream",
          "text": [
            "8864\n",
            "3222\n"
          ],
          "name": "stdout"
        }
      ]
    },
    {
      "cell_type": "markdown",
      "metadata": {
        "id": "3vLa-Dw_JYwH",
        "colab_type": "text"
      },
      "source": [
        "We are left with 8864 Android apps and 3222 iOS apps for our analysis."
      ]
    },
    {
      "cell_type": "markdown",
      "metadata": {
        "id": "uDW2n4sVSlaa",
        "colab_type": "text"
      },
      "source": [
        "# Most Commong Apps by Genre\n",
        "\n",
        "**Part One**\n",
        "\n",
        "The aim of this analysis is to determine the types of apps that are likely to attract more users becauses revenue is highly influenced by number of users. The end goal is to add an app to both Google Play and the App Store. We will make a frrequency table for the most common genres for each market. For the App Store data set we will use the `prime_genre` column and the `Genres and Category` for Google Play."
      ]
    },
    {
      "cell_type": "code",
      "metadata": {
        "id": "rmPa8CSvTDBk",
        "colab_type": "code",
        "colab": {}
      },
      "source": [
        "def freq_table(dataset, index):\n",
        "    table = {}\n",
        "    total = 0\n",
        "\n",
        "    for row in dataset:\n",
        "        total += 1\n",
        "        value = row[index]\n",
        "        if value in table:\n",
        "            table[value] += 1\n",
        "        else:\n",
        "            table[value] = 1\n",
        "    \n",
        "    table_percentage = {}\n",
        "    for key in table:\n",
        "        percentage = (table[key] / total) * 100\n",
        "        table_percentage[key] = percentage\n",
        "\n",
        "    return table_percentage\n",
        "\n",
        "def display_table(dataset, index):\n",
        "    table = freq_table(dataset, index)\n",
        "    table_display = []\n",
        "    for key in table:\n",
        "        key_val_as_tuple = (table[key], key)\n",
        "        table_display.append(key_val_as_tuple)\n",
        "\n",
        "    table_sorted = sorted(table_display, reverse=True)\n",
        "    for entry in table_sorted:\n",
        "        print(entry[1], ':', entry[0])"
      ],
      "execution_count": 0,
      "outputs": []
    },
    {
      "cell_type": "markdown",
      "metadata": {
        "id": "pNDr6g4vVgsu",
        "colab_type": "text"
      },
      "source": [
        "After creating the functions above to generate frequency tables with percentages, we will evaluate the App Store and Google Play data."
      ]
    },
    {
      "cell_type": "code",
      "metadata": {
        "id": "pBMcCv8TVwXn",
        "colab_type": "code",
        "outputId": "4d96a4c2-ebe9-479a-b34e-429c2b119dff",
        "colab": {
          "base_uri": "https://localhost:8080/",
          "height": 408
        }
      },
      "source": [
        "display_table(ios_final, -5)"
      ],
      "execution_count": 0,
      "outputs": [
        {
          "output_type": "stream",
          "text": [
            "Games : 58.16263190564867\n",
            "Entertainment : 7.883302296710118\n",
            "Photo & Video : 4.9658597144630665\n",
            "Education : 3.662321539416512\n",
            "Social Networking : 3.2898820608317814\n",
            "Shopping : 2.60707635009311\n",
            "Utilities : 2.5139664804469275\n",
            "Sports : 2.1415270018621975\n",
            "Music : 2.0484171322160147\n",
            "Health & Fitness : 2.0173805090006205\n",
            "Productivity : 1.7380509000620732\n",
            "Lifestyle : 1.5828677839851024\n",
            "News : 1.3345747982619491\n",
            "Travel : 1.2414649286157666\n",
            "Finance : 1.1173184357541899\n",
            "Weather : 0.8690254500310366\n",
            "Food & Drink : 0.8069522036002483\n",
            "Reference : 0.5586592178770949\n",
            "Business : 0.5276225946617008\n",
            "Book : 0.4345127250155183\n",
            "Navigation : 0.186219739292365\n",
            "Medical : 0.186219739292365\n",
            "Catalogs : 0.12414649286157665\n"
          ],
          "name": "stdout"
        }
      ]
    },
    {
      "cell_type": "markdown",
      "metadata": {
        "id": "eklc6Ix0YOj6",
        "colab_type": "text"
      },
      "source": [
        "In the App Store among the free English apps, more than half are games (58.16%). Entertainment follows at 7.88%. This frequency table gives the impression that the App Store is dominated by apps designed for fun(games, entertainment, social networking, etc.). Practical apps do exist, but they are more rare. However, just because the Games category has the most apps, does not mean it has the most users."
      ]
    },
    {
      "cell_type": "code",
      "metadata": {
        "id": "1jI6dCBWXmJu",
        "colab_type": "code",
        "outputId": "8205f1e5-3730-4628-d602-519b083a4de8",
        "colab": {
          "base_uri": "https://localhost:8080/",
          "height": 578
        }
      },
      "source": [
        "display_table(android_final, 1) #Category"
      ],
      "execution_count": 0,
      "outputs": [
        {
          "output_type": "stream",
          "text": [
            "FAMILY : 18.907942238267147\n",
            "GAME : 9.724729241877256\n",
            "TOOLS : 8.461191335740072\n",
            "BUSINESS : 4.591606498194946\n",
            "LIFESTYLE : 3.9034296028880866\n",
            "PRODUCTIVITY : 3.892148014440433\n",
            "FINANCE : 3.7003610108303246\n",
            "MEDICAL : 3.531137184115524\n",
            "SPORTS : 3.395758122743682\n",
            "PERSONALIZATION : 3.3167870036101084\n",
            "COMMUNICATION : 3.2378158844765346\n",
            "HEALTH_AND_FITNESS : 3.0798736462093865\n",
            "PHOTOGRAPHY : 2.944494584837545\n",
            "NEWS_AND_MAGAZINES : 2.7978339350180503\n",
            "SOCIAL : 2.6624548736462095\n",
            "TRAVEL_AND_LOCAL : 2.33528880866426\n",
            "SHOPPING : 2.2450361010830324\n",
            "BOOKS_AND_REFERENCE : 2.1435018050541514\n",
            "DATING : 1.861462093862816\n",
            "VIDEO_PLAYERS : 1.7937725631768955\n",
            "MAPS_AND_NAVIGATION : 1.3989169675090252\n",
            "FOOD_AND_DRINK : 1.2409747292418771\n",
            "EDUCATION : 1.1620036101083033\n",
            "ENTERTAINMENT : 0.9589350180505415\n",
            "LIBRARIES_AND_DEMO : 0.9363718411552346\n",
            "AUTO_AND_VEHICLES : 0.9250902527075812\n",
            "HOUSE_AND_HOME : 0.8235559566787004\n",
            "WEATHER : 0.8009927797833934\n",
            "EVENTS : 0.7107400722021661\n",
            "PARENTING : 0.6543321299638989\n",
            "ART_AND_DESIGN : 0.6430505415162455\n",
            "COMICS : 0.6204873646209386\n",
            "BEAUTY : 0.5979241877256317\n"
          ],
          "name": "stdout"
        }
      ]
    },
    {
      "cell_type": "markdown",
      "metadata": {
        "id": "2I6zsSSPY5vh",
        "colab_type": "text"
      },
      "source": [
        "Looking at the Category data for Google Play varies significantly from what was found with the App Store. There are a good number of apps designed for practical purposes (family, tools, lifestyle, productivity, etc.). Practical apps seem to have better representation on Google Play compared to the App Store."
      ]
    },
    {
      "cell_type": "code",
      "metadata": {
        "id": "3M9PuHSZXwpL",
        "colab_type": "code",
        "outputId": "3831fcc1-2452-430c-c730-a56f74bc397c",
        "colab": {
          "base_uri": "https://localhost:8080/",
          "height": 1000
        }
      },
      "source": [
        "display_table(android_final, -4) # Genre"
      ],
      "execution_count": 0,
      "outputs": [
        {
          "output_type": "stream",
          "text": [
            "Tools : 8.449909747292418\n",
            "Entertainment : 6.069494584837545\n",
            "Education : 5.347472924187725\n",
            "Business : 4.591606498194946\n",
            "Productivity : 3.892148014440433\n",
            "Lifestyle : 3.892148014440433\n",
            "Finance : 3.7003610108303246\n",
            "Medical : 3.531137184115524\n",
            "Sports : 3.463447653429603\n",
            "Personalization : 3.3167870036101084\n",
            "Communication : 3.2378158844765346\n",
            "Action : 3.1024368231046933\n",
            "Health & Fitness : 3.0798736462093865\n",
            "Photography : 2.944494584837545\n",
            "News & Magazines : 2.7978339350180503\n",
            "Social : 2.6624548736462095\n",
            "Travel & Local : 2.3240072202166067\n",
            "Shopping : 2.2450361010830324\n",
            "Books & Reference : 2.1435018050541514\n",
            "Simulation : 2.0419675090252705\n",
            "Dating : 1.861462093862816\n",
            "Arcade : 1.8501805054151623\n",
            "Video Players & Editors : 1.7712093862815883\n",
            "Casual : 1.7599277978339352\n",
            "Maps & Navigation : 1.3989169675090252\n",
            "Food & Drink : 1.2409747292418771\n",
            "Puzzle : 1.128158844765343\n",
            "Racing : 0.9927797833935018\n",
            "Role Playing : 0.9363718411552346\n",
            "Libraries & Demo : 0.9363718411552346\n",
            "Auto & Vehicles : 0.9250902527075812\n",
            "Strategy : 0.9138086642599278\n",
            "House & Home : 0.8235559566787004\n",
            "Weather : 0.8009927797833934\n",
            "Events : 0.7107400722021661\n",
            "Adventure : 0.6768953068592057\n",
            "Comics : 0.6092057761732852\n",
            "Beauty : 0.5979241877256317\n",
            "Art & Design : 0.5979241877256317\n",
            "Parenting : 0.4963898916967509\n",
            "Card : 0.45126353790613716\n",
            "Casino : 0.42870036101083037\n",
            "Trivia : 0.41741877256317694\n",
            "Educational;Education : 0.39485559566787\n",
            "Board : 0.3835740072202166\n",
            "Educational : 0.3722924187725632\n",
            "Education;Education : 0.33844765342960287\n",
            "Word : 0.2594765342960289\n",
            "Casual;Pretend Play : 0.236913357400722\n",
            "Music : 0.2030685920577617\n",
            "Racing;Action & Adventure : 0.16922382671480143\n",
            "Puzzle;Brain Games : 0.16922382671480143\n",
            "Entertainment;Music & Video : 0.16922382671480143\n",
            "Casual;Brain Games : 0.13537906137184114\n",
            "Casual;Action & Adventure : 0.13537906137184114\n",
            "Arcade;Action & Adventure : 0.12409747292418773\n",
            "Action;Action & Adventure : 0.10153429602888085\n",
            "Educational;Pretend Play : 0.09025270758122744\n",
            "Simulation;Action & Adventure : 0.078971119133574\n",
            "Parenting;Education : 0.078971119133574\n",
            "Entertainment;Brain Games : 0.078971119133574\n",
            "Board;Brain Games : 0.078971119133574\n",
            "Parenting;Music & Video : 0.06768953068592057\n",
            "Educational;Brain Games : 0.06768953068592057\n",
            "Casual;Creativity : 0.06768953068592057\n",
            "Art & Design;Creativity : 0.06768953068592057\n",
            "Education;Pretend Play : 0.056407942238267145\n",
            "Role Playing;Pretend Play : 0.04512635379061372\n",
            "Education;Creativity : 0.04512635379061372\n",
            "Role Playing;Action & Adventure : 0.033844765342960284\n",
            "Puzzle;Action & Adventure : 0.033844765342960284\n",
            "Entertainment;Creativity : 0.033844765342960284\n",
            "Entertainment;Action & Adventure : 0.033844765342960284\n",
            "Educational;Creativity : 0.033844765342960284\n",
            "Educational;Action & Adventure : 0.033844765342960284\n",
            "Education;Music & Video : 0.033844765342960284\n",
            "Education;Brain Games : 0.033844765342960284\n",
            "Education;Action & Adventure : 0.033844765342960284\n",
            "Adventure;Action & Adventure : 0.033844765342960284\n",
            "Video Players & Editors;Music & Video : 0.02256317689530686\n",
            "Sports;Action & Adventure : 0.02256317689530686\n",
            "Simulation;Pretend Play : 0.02256317689530686\n",
            "Puzzle;Creativity : 0.02256317689530686\n",
            "Music;Music & Video : 0.02256317689530686\n",
            "Entertainment;Pretend Play : 0.02256317689530686\n",
            "Casual;Education : 0.02256317689530686\n",
            "Board;Action & Adventure : 0.02256317689530686\n",
            "Video Players & Editors;Creativity : 0.01128158844765343\n",
            "Trivia;Education : 0.01128158844765343\n",
            "Travel & Local;Action & Adventure : 0.01128158844765343\n",
            "Tools;Education : 0.01128158844765343\n",
            "Strategy;Education : 0.01128158844765343\n",
            "Strategy;Creativity : 0.01128158844765343\n",
            "Strategy;Action & Adventure : 0.01128158844765343\n",
            "Simulation;Education : 0.01128158844765343\n",
            "Role Playing;Brain Games : 0.01128158844765343\n",
            "Racing;Pretend Play : 0.01128158844765343\n",
            "Puzzle;Education : 0.01128158844765343\n",
            "Parenting;Brain Games : 0.01128158844765343\n",
            "Music & Audio;Music & Video : 0.01128158844765343\n",
            "Lifestyle;Pretend Play : 0.01128158844765343\n",
            "Lifestyle;Education : 0.01128158844765343\n",
            "Health & Fitness;Education : 0.01128158844765343\n",
            "Health & Fitness;Action & Adventure : 0.01128158844765343\n",
            "Entertainment;Education : 0.01128158844765343\n",
            "Communication;Creativity : 0.01128158844765343\n",
            "Comics;Creativity : 0.01128158844765343\n",
            "Casual;Music & Video : 0.01128158844765343\n",
            "Card;Action & Adventure : 0.01128158844765343\n",
            "Books & Reference;Education : 0.01128158844765343\n",
            "Art & Design;Pretend Play : 0.01128158844765343\n",
            "Art & Design;Action & Adventure : 0.01128158844765343\n",
            "Arcade;Pretend Play : 0.01128158844765343\n",
            "Adventure;Education : 0.01128158844765343\n"
          ],
          "name": "stdout"
        }
      ]
    },
    {
      "cell_type": "markdown",
      "metadata": {
        "id": "9dhr2_VRZatV",
        "colab_type": "text"
      },
      "source": [
        "The difference between the Google Play `Category` and `Genre` columns is not clear, but the `Genres` column is more granular. Moving forward we will be using the Category column as we are looking at the big picture."
      ]
    },
    {
      "cell_type": "markdown",
      "metadata": {
        "id": "pVDIX0X_aZ5V",
        "colab_type": "text"
      },
      "source": [
        "# Most Popular Apps by Genre on the App Store"
      ]
    },
    {
      "cell_type": "code",
      "metadata": {
        "id": "lGt4vcynaOTT",
        "colab_type": "code",
        "outputId": "b61cb61e-623a-45b6-e8c0-94a209c306bd",
        "colab": {
          "base_uri": "https://localhost:8080/",
          "height": 408
        }
      },
      "source": [
        "ios_genres = freq_table(ios_final, -5)\n",
        "\n",
        "for genre in ios_genres:\n",
        "    total = 0\n",
        "    genre_len = 0\n",
        "    for app in ios_final:\n",
        "        genre_app = app[-5]\n",
        "        if genre_app == genre:\n",
        "            n_ratings = float(app[6])\n",
        "            total += n_ratings\n",
        "            genre_len += 1\n",
        "\n",
        "    avg_n_ratings = total / genre_len\n",
        "    print(genre, ':', avg_n_ratings)\n"
      ],
      "execution_count": 0,
      "outputs": [
        {
          "output_type": "stream",
          "text": [
            "Productivity : 21028.410714285714\n",
            "Weather : 52279.892857142855\n",
            "Shopping : 26919.690476190477\n",
            "Reference : 74942.11111111111\n",
            "Finance : 31467.944444444445\n",
            "Music : 57326.530303030304\n",
            "Utilities : 18684.456790123455\n",
            "Travel : 28243.8\n",
            "Social Networking : 71548.34905660378\n",
            "Sports : 23008.898550724636\n",
            "Health & Fitness : 23298.015384615384\n",
            "Games : 22788.6696905016\n",
            "Food & Drink : 33333.92307692308\n",
            "News : 21248.023255813954\n",
            "Book : 39758.5\n",
            "Photo & Video : 28441.54375\n",
            "Entertainment : 14029.830708661417\n",
            "Business : 7491.117647058823\n",
            "Lifestyle : 16485.764705882353\n",
            "Education : 7003.983050847458\n",
            "Navigation : 86090.33333333333\n",
            "Medical : 612.0\n",
            "Catalogs : 4004.0\n"
          ],
          "name": "stdout"
        }
      ]
    },
    {
      "cell_type": "markdown",
      "metadata": {
        "id": "yn6WOYkkWV9u",
        "colab_type": "text"
      },
      "source": [
        "# Most Popular Apps by Genre on Google Play\n",
        "\n",
        "We have data about the number of installs for the Google Play market. This should allow us to make a clearer picture about genre popularity. However, the install numbers don't seem to be precise enough (ex: 100+, 1000+, 5000+)"
      ]
    },
    {
      "cell_type": "code",
      "metadata": {
        "id": "HJ7yxPt3W74c",
        "colab_type": "code",
        "outputId": "deb90916-75f3-4b39-f6eb-4be2fdc56ea9",
        "colab": {
          "base_uri": "https://localhost:8080/",
          "height": 578
        }
      },
      "source": [
        "android_categories = freq_table(android_final, 1)\n",
        "\n",
        "for category in android_categories:\n",
        "    total = 0\n",
        "    category_len = 0\n",
        "    for app in android_final:\n",
        "        app_category = app[1]\n",
        "        if app_category == category:\n",
        "            n_installs = app[5]\n",
        "            n_installs = n_installs.replace(',', '')\n",
        "            n_installs = n_installs.replace('+', '')\n",
        "            total += float(n_installs)\n",
        "            category_len += 1\n",
        "    avg_n_installs = total / category_len\n",
        "    print(category, ':', avg_n_installs)"
      ],
      "execution_count": 0,
      "outputs": [
        {
          "output_type": "stream",
          "text": [
            "ART_AND_DESIGN : 1986335.0877192982\n",
            "AUTO_AND_VEHICLES : 647317.8170731707\n",
            "BEAUTY : 513151.88679245283\n",
            "BOOKS_AND_REFERENCE : 8767811.894736841\n",
            "BUSINESS : 1712290.1474201474\n",
            "COMICS : 817657.2727272727\n",
            "COMMUNICATION : 38456119.167247385\n",
            "DATING : 854028.8303030303\n",
            "EDUCATION : 1833495.145631068\n",
            "ENTERTAINMENT : 11640705.88235294\n",
            "EVENTS : 253542.22222222222\n",
            "FINANCE : 1387692.475609756\n",
            "FOOD_AND_DRINK : 1924897.7363636363\n",
            "HEALTH_AND_FITNESS : 4188821.9853479853\n",
            "HOUSE_AND_HOME : 1331540.5616438356\n",
            "LIBRARIES_AND_DEMO : 638503.734939759\n",
            "LIFESTYLE : 1437816.2687861272\n",
            "GAME : 15588015.603248259\n",
            "FAMILY : 3695641.8198090694\n",
            "MEDICAL : 120550.61980830671\n",
            "SOCIAL : 23253652.127118643\n",
            "SHOPPING : 7036877.311557789\n",
            "PHOTOGRAPHY : 17840110.40229885\n",
            "SPORTS : 3638640.1428571427\n",
            "TRAVEL_AND_LOCAL : 13984077.710144928\n",
            "TOOLS : 10801391.298666667\n",
            "PERSONALIZATION : 5201482.6122448975\n",
            "PRODUCTIVITY : 16787331.344927534\n",
            "PARENTING : 542603.6206896552\n",
            "WEATHER : 5074486.197183099\n",
            "VIDEO_PLAYERS : 24727872.452830188\n",
            "NEWS_AND_MAGAZINES : 9549178.467741935\n",
            "MAPS_AND_NAVIGATION : 4056941.7741935486\n"
          ],
          "name": "stdout"
        }
      ]
    },
    {
      "cell_type": "markdown",
      "metadata": {
        "id": "hWKYmIwgYzIm",
        "colab_type": "text"
      },
      "source": [
        "# Conclusions\n",
        "\n",
        "This project analyzed data about the App Store and Google Play mobile apps. The goal was to recommend an app profile that can be profitable for both markets.\n",
        "\n",
        "While there a many different apps that you could develop to be successful in both markets, some categories are heavily saturated with apps. Due to this, I think that turning a popular book into an app would see success in both areas. While you can go to a library to check out a book or purchase a hard copy, this app would provide additional features to create a more integrated experience for the user to maximize time spent on the app."
      ]
    }
  ]
}